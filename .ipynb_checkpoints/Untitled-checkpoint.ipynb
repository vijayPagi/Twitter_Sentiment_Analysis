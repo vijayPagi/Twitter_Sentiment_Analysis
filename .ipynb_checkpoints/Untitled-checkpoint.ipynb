{
 "cells": [
  {
   "cell_type": "code",
   "execution_count": 51,
   "metadata": {},
   "outputs": [],
   "source": [
    "import tweepy\n",
    "from textblob import TextBlob"
   ]
  },
  {
   "cell_type": "code",
   "execution_count": 52,
   "metadata": {},
   "outputs": [],
   "source": [
    "consumer_key = 'rV9HRlsPaRkIxPy60C1KMDUzR'\n",
    "consumer_secret = 'Bjun1zsOuigLfNfXI3HPE78opFawY4mpFYPRGdrBgVKyYL2O7c'\n",
    "access_token = '951082651871522817-XeVcA06k9mGny6OIa7MlxuWsFtuGvl6'\n",
    "access_secret = 'mVb8PwNUWWPxfxuklL975Nhu8MuNJaxFURcDp40RmjB6S'"
   ]
  },
  {
   "cell_type": "code",
   "execution_count": 53,
   "metadata": {},
   "outputs": [],
   "source": [
    "auth = tweepy.OAuthHandler(consumer_key,consumer_secret)\n",
    "auth.set_access_token(access_token,access_secret)"
   ]
  },
  {
   "cell_type": "code",
   "execution_count": 54,
   "metadata": {},
   "outputs": [],
   "source": [
    "api = tweepy.API(auth)"
   ]
  },
  {
   "cell_type": "code",
   "execution_count": 55,
   "metadata": {},
   "outputs": [],
   "source": [
    "public_tweets = api.search('stock market')"
   ]
  },
  {
   "cell_type": "code",
   "execution_count": 56,
   "metadata": {},
   "outputs": [
    {
     "name": "stdout",
     "output_type": "stream",
     "text": [
      "RT @thomaskaine5: FINAL RESULTS of POLL:  97% will participate in protests if Trump fires Mueller.  96% will participate in general strikes…\n",
      "Sentiment(polarity=0.02500000000000001, subjectivity=0.75)\n",
      "The Wall Street Journal Trump to announce new anti-opioid plan including death penalty for traffickers https://t.co/ciH4czlEUY\n",
      "Sentiment(polarity=0.13636363636363635, subjectivity=0.45454545454545453)\n",
      "RT @LMT978: $SPY is +2.75% YTD\n",
      "There are 435 stocks &gt; $2B mkt cap up +10% or more YTD\n",
      "Stock selection matters even more in range bound mark…\n",
      "Sentiment(polarity=0.5, subjectivity=0.5)\n",
      "RT @PSGWealth: Get direct market access to the Johannesburg Stock Exchange ($JSE) to start building your local #share portfolio. https://t.…\n",
      "Sentiment(polarity=0.05, subjectivity=0.2)\n",
      "Lowe’s Companies, Inc. (LOW) Is Getting Trounced by Home Depot (HD) | Stock Market News | US News https://t.co/bW2ZlEbzy9\n",
      "Sentiment(polarity=0.0, subjectivity=0.3)\n",
      "RT @tradingproverbs: The stock market is always there. https://t.co/P4dZHYJSNw\n",
      "Sentiment(polarity=0.0, subjectivity=0.0)\n",
      "RT @JosephBlasi: Apparently bipartisan support building for capital shares for employees: equity compensation in stock market companies, ES…\n",
      "Sentiment(polarity=0.05, subjectivity=0.35)\n",
      "This political-risk gauge just hit a 15-year high — and here’s what it means for the stock market https://t.co/Vhl8OIKGT7\n",
      "Sentiment(polarity=0.16, subjectivity=0.5399999999999999)\n",
      "@susan_dobbie @CNN The crash you'll hear is the stock market going through the ceiling...lol\n",
      "Sentiment(polarity=0.0, subjectivity=0.0)\n",
      "@AgentSaffron They will probably engineer a stock market crash...\n",
      "Sentiment(polarity=0.0, subjectivity=0.0)\n",
      "RT @mcclure111: \"Lost\" is a fascinating word here. Their stock price went down and their market cap reduced. In other circumstances, we'd s…\n",
      "Sentiment(polarity=0.1398148148148148, subjectivity=0.5046296296296297)\n",
      "@VFL2013 @AmericanHotLips @MAGAGwen @SKYRIDER4538 @DonnaWR8 @SaysMissy @DrMartyFox @ImJustAMel @SonofLiberty357… https://t.co/nw1mdrxdLM\n",
      "Sentiment(polarity=0.0, subjectivity=0.0)\n",
      "5 Vital Tips About Stock Market Research [ad_1] When you first consider investing in the stock market https://t.co/vuQE8W3lO9 #Essay\n",
      "Sentiment(polarity=0.175, subjectivity=0.3666666666666667)\n",
      "What Bitcoin, Tulip Mania and the Nigerian Stock Market Have in Common https://t.co/ZrFVUOKhkE\n",
      "Sentiment(polarity=-0.3, subjectivity=0.5)\n",
      "RT @MLRPromoExtra: Wirral Carpets Market Carpets Ellesmere port market, 0151 356 0572 @Marketcarpets17 10% OFF ALL STOCK RUGS #Tweacon http…\n",
      "Sentiment(polarity=0.0, subjectivity=0.0)\n"
     ]
    }
   ],
   "source": [
    "for tweet in public_tweets:\n",
    "    print(tweet.text)\n",
    "    analysis = TextBlob(tweet.text)\n",
    "    print(analysis.sentiment)"
   ]
  },
  {
   "cell_type": "code",
   "execution_count": null,
   "metadata": {},
   "outputs": [],
   "source": []
  }
 ],
 "metadata": {
  "kernelspec": {
   "display_name": "Python 2",
   "language": "python",
   "name": "python2"
  },
  "language_info": {
   "codemirror_mode": {
    "name": "ipython",
    "version": 2
   },
   "file_extension": ".py",
   "mimetype": "text/x-python",
   "name": "python",
   "nbconvert_exporter": "python",
   "pygments_lexer": "ipython2",
   "version": "2.7.14"
  }
 },
 "nbformat": 4,
 "nbformat_minor": 2
}
